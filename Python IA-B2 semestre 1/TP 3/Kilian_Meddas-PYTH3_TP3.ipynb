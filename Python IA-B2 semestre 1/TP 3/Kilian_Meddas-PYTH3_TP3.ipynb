{
 "cells": [
  {
   "cell_type": "markdown",
   "metadata": {},
   "source": [
    "# TP 3 - Simulation d'Intervalle de Confiance pour une Proportion en Python\n",
    "\n",
    "**Introduction :** Les intervalles de confiance sont une composante cruciale de la statistique qui permet de quantifier l'incertitude dans les estimations. Dans ce TP, vous allez apprendre à calculer un intervalle de confiance pour une proportion en utilisant des simulations avec Python. Vous utiliserez des méthodes de simulation pour estimer la proportion d'une caractéristique binaire dans une population, ainsi que l'intervalle de confiance associé.\n",
    "\n",
    "**Objectif :** À la fin de ce TP, vous serez en mesure de simuler et d'interpréter un intervalle de confiance pour une proportion, d'explorer la variation des paramètres de simulation et de déterminer la taille de l'échantillon nécessaire pour obtenir un intervalle de confiance donné avec un niveau de confiance donné.\n",
    "\n",
    "**Matériel requis :** Un environnement Python (tel que Jupyter Notebook) pour effectuer des simulations.\n",
    "\n",
    "**Théorie :** Avant de commencer, voici quelques concepts clés à comprendre :\n",
    "\n",
    "- **Intervalle de Confiance (IC) :** Un intervalle de confiance est une plage de valeurs à l'intérieur de laquelle vous êtes confiant à un certain niveau de confiance que le vrai paramètre (dans ce cas, la proportion) se trouve.\n",
    "\n",
    "- **Proportion (p) :** La proportion est une mesure de la fréquence d'une caractéristique binaire (par exemple, la proportion de personnes qui préfèrent un produit A parmi un groupe de personnes).\n",
    "\n",
    "- **Simulation :** Dans ce TP, nous allons utiliser des simulations pour estimer la proportion et calculer l'intervalle de confiance. Cela signifie que nous allons générer des échantillons de données aléatoires.\n",
    "\n",
    "Dans ce TP, les données simulées reflèteront les hypothèses du Devoir Maison INTDE qui cherche à étudier la validité de sondages effectués au niveau des Etats Unis pour la présidentielle dans deux états la Californie et le Michigan. Un objectif est de comparer les résultats théoriques obtenus dans ce devoir de math et les résultats numériques obtenus dans ce TP.\n",
    "\n",
    "**Quand vous réaliserez vos simulations (aux étapes 4 et 5), vous indiquerez aussi les données théoriques trouvées dans le devoir Maison et vous commenterez.**\n"
   ]
  },
  {
   "cell_type": "markdown",
   "metadata": {},
   "source": [
    "# Au travail!"
   ]
  },
  {
   "cell_type": "code",
   "execution_count": 92,
   "metadata": {},
   "outputs": [],
   "source": [
    "# Importez les bibliothèques nécessaires\n",
    "import numpy as np\n",
    "import random\n",
    "\n",
    "random.seed(10) ## je mets ici une seed pour que si vous relancez votre notebook, vous retrouviez bien les même résultats\n",
    "np.random.seed(10) ## idem pour numpy"
   ]
  },
  {
   "cell_type": "markdown",
   "metadata": {},
   "source": [
    "### Étape 1 : Génération des Données Simulées\n",
    "\n",
    "Création d'une fonction **sondage** permettant de simuler un sondage.\n",
    "\n",
    "\n",
    "\n",
    "Les données d'entrée seront:\n",
    "- **n_echant** : un entier donnant la taille de l'échantillon (ici le nombre de personnes interrogées pour le sondage)\n",
    "- **p** : un réel compris entre 0 et 1 donnant la valeur du paramètre du schéma de Bernoulli (ici le pourcentage d'électeurs votant pour le candidat considéré) si on on considère que le vote d'une personne $i$ est représenté par une variable $X_i$ qui vaut $0$ si la personne ne vote pas pour le candidat et $1$ si il vote pour le candidat.\n",
    "\n",
    "Les données de sortie seront:\n",
    "- **p_simul** : un réel compris entre 0 et 1 donnant la valeur de la proportion simulée lors de ce sondage ($\\dfrac{\\sum X_i}{n\\_echant}$) \n",
    "\n",
    "**Attention: Les seules fonctions autorisées pour générer des nombres aléatoires seront np.random.random() si vous voulez utiliser numpy ou random() si vous souhaitez rester en python \"standard\".**\n"
   ]
  },
  {
   "cell_type": "code",
   "execution_count": 93,
   "metadata": {},
   "outputs": [],
   "source": [
    "def sondage(n_echant, p):\n",
    "    votes = np.random.random(n_echant)\n",
    "    p_simul = (np.sum(votes<p)/n_echant)\n",
    "    return float(p_simul)"
   ]
  },
  {
   "cell_type": "markdown",
   "metadata": {},
   "source": [
    "### Étape 2 : Simulation d'un grand nombre de sondages\n",
    "\n",
    "Création d'une fonction **multi_sondage** permettant de simuler qu'on va répéter un grand nombre de fois un sondage élémentaire afin de pouvoir utiliser ces résultats pour regarder la dispersion des résultats. Bien sûr on appellera la fonction **sondage** pour cela.\n",
    "\n",
    "\n",
    "\n",
    "Les données d'entrée seront:\n",
    "- **nb_sond** : un entier indiquant le nombre de sondages qu'on souhaite réaliser\n",
    "- **n_echant** : un entier donnant la taille de l'échantillon (ici le nombre de personnes interrogées pour le sondage)\n",
    "- **p** : un réel compris entre 0 et 1 donnant la valeur du paramètre du schéma de Bernoulli (ici le pourcentage d'électeurs votant pour le candidat considéré) si on on considère que le vote d'une personne $i$ est représenté par une variable $X_i$ qui vaut $0$ si la personne ne vote pas pour le candidat et $1$ si il vote pour le candidat.\n",
    "\n",
    "Les données de sortie seront:\n",
    "- **p_simul_vect** : un tableau numpy de taille **nb_sond** contenant les résultats des valeurs de la proportion simulée lors de l'ensemble de ces sondage\n",
    "\n",
    "**Le nombre de sondage doit être au moins de 1000, peut-être plus pour donner ensuite des intervalles de confiance \"stables\"**, Je vous laisse regarder quelle valeur vous semble adaptée.\n"
   ]
  },
  {
   "cell_type": "code",
   "execution_count": 94,
   "metadata": {},
   "outputs": [],
   "source": [
    "def multi_sondage(nb_sond,n_echant,p):\n",
    "    votes = np.zeros(nb_sond)\n",
    "    for i in range(len(votes)):\n",
    "        votes[i] = sondage(n_echant, p)\n",
    "    p_simul_vect = votes\n",
    "    return p_simul_vect"
   ]
  },
  {
   "cell_type": "code",
   "execution_count": 95,
   "metadata": {},
   "outputs": [],
   "source": [
    "test = multi_sondage(1000,100,0.68)"
   ]
  },
  {
   "cell_type": "markdown",
   "metadata": {},
   "source": [
    "### Étape 3 : Calcul d'un intervalle de confiance\n",
    "\n",
    "Création d'une fonction **IC** permettant de calculer un intervalle de confiance à partir de la donnée d'un nombre important de données simulées\n",
    "\n",
    "\n",
    "\n",
    "Les données d'entrée seront:\n",
    "- **p_donnees** : un tableau numpy contennant l'ensemble de proportions simulées \n",
    "- **p** : un réel compris entre 0 et 1 contenant la proportion visée\n",
    "- **confiance** : un réel compris entre 0 et 1 contenant le pourcentage de confiance visé\n",
    "\n",
    "Les données de sortie seront:\n",
    "- **delta** : un réel tel que on ait une proportion égale à **confiance** de proportions simulées comprises entre **p - delta/2** et **p+delta/2** \n"
   ]
  },
  {
   "cell_type": "code",
   "execution_count": 96,
   "metadata": {},
   "outputs": [],
   "source": [
    "def IC(p_donnees,p,confiance):\n",
    "    R_max = np.percentile(p_donnees,0.99)\n",
    "    R_min = np.percentile(p_donnees,0.01)\n",
    "    delta = R_max - R_min\n",
    "    return float(delta)"
   ]
  },
  {
   "cell_type": "code",
   "execution_count": 97,
   "metadata": {},
   "outputs": [
    {
     "data": {
      "text/plain": [
       "0.056902999999999926"
      ]
     },
     "execution_count": 97,
     "metadata": {},
     "output_type": "execute_result"
    }
   ],
   "source": [
    "IC(test, 0.68, 0.98)"
   ]
  },
  {
   "cell_type": "markdown",
   "metadata": {},
   "source": [
    "### Étape 4 : Je fixe **n_echant**, je regarde la taille de mon intervalle de confiance\n"
   ]
  },
  {
   "cell_type": "markdown",
   "metadata": {},
   "source": [
    "**LA CALIFORNIE**\n",
    "\n",
    "Ici\n",
    "\n",
    "- **n_echant** vaut 1000\n",
    "- **p** vaut 0.45\n",
    "- **confiance** =0.98\n",
    "\n"
   ]
  },
  {
   "cell_type": "code",
   "execution_count": 98,
   "metadata": {},
   "outputs": [
    {
     "data": {
      "text/plain": [
       "0.021000099999999966"
      ]
     },
     "execution_count": 98,
     "metadata": {},
     "output_type": "execute_result"
    }
   ],
   "source": [
    "# Effectuez la simulation pour calculer l'intervalle de confiance correspondant au sondage en Californie\n",
    "IC(multi_sondage(100000, 1000, 0.45), 0.45, 0.98)"
   ]
  },
  {
   "cell_type": "markdown",
   "metadata": {},
   "source": [
    "**LE MICHIGAN**\n",
    "\n",
    "Ici\n",
    "\n",
    "- **n_echant** vaut 1000\n",
    "- **p** vaut 0.49\n",
    "- **confiance** =0.98\n",
    "\n"
   ]
  },
  {
   "cell_type": "code",
   "execution_count": 99,
   "metadata": {},
   "outputs": [
    {
     "data": {
      "text/plain": [
       "0.02200000000000002"
      ]
     },
     "execution_count": 99,
     "metadata": {},
     "output_type": "execute_result"
    }
   ],
   "source": [
    "IC(multi_sondage(100000, 1000, 0.49), 0.49, 0.98)"
   ]
  },
  {
   "cell_type": "markdown",
   "metadata": {},
   "source": [
    "### Étape 5 : Je fixe mon intervalle de confiance, je cherche **n_echant** qui me permet de l'atteindre\n",
    "\n",
    "\n",
    "Dans cette étape, vous allez \"tatonner\" en augmentant progressivement **n_echant** jusqu'à ce que l'intervalle de confiance corresponde à ce que vous visez\n"
   ]
  },
  {
   "cell_type": "markdown",
   "metadata": {},
   "source": [
    "**LA CALIFORNIE**\n",
    "\n",
    "Ici\n",
    "- **p** vaut 0.45\n",
    "- **delta/2** vaut 0.05 pour ne pas se tromper dans le résultat\n",
    "- **confiance** =0.98\n",
    "\n",
    "\n"
   ]
  },
  {
   "cell_type": "code",
   "execution_count": 100,
   "metadata": {},
   "outputs": [],
   "source": [
    "# Effectuez la simulation pour calculer n_echant \"optimal\"\n",
    "def optimal_echant(p, delta_final, confiance):\n",
    "    n_echant = 100  # Commencer avec une petite taille d'échantillon\n",
    "    found = False\n",
    "\n",
    "    while not found:\n",
    "        # Effectuer plusieurs sondages avec la taille d'échantillon actuelle\n",
    "        p_donnees = multi_sondage(1000000, n_echant, p)\n",
    "        \n",
    "        # Calculer l'intervalle de confiance\n",
    "        delta = IC(p_donnees, p, confiance)\n",
    "        \n",
    "        # Vérifier si l'intervalle de confiance est assez petit\n",
    "        if delta / 2 <= delta_final:\n",
    "            found = True\n",
    "        else:\n",
    "            n_echant += 100  # Augmenter progressivement la taille de l'échantillon\n",
    "\n",
    "    return n_echant, delta"
   ]
  },
  {
   "cell_type": "code",
   "execution_count": 101,
   "metadata": {},
   "outputs": [
    {
     "name": "stdout",
     "output_type": "stream",
     "text": [
      "Taille d'échantillon optimale : 100, Intervalle de confiance atteint : 0.07\n"
     ]
    }
   ],
   "source": [
    "# Utiliser les paramètres pour la Californie\n",
    "optimal_n_echant, final_delta = optimal_echant(0.45, 0.05, 0.98)\n",
    "print(f\"Taille d'échantillon optimale : {optimal_n_echant}, Intervalle de confiance atteint : {final_delta}\")\n"
   ]
  },
  {
   "cell_type": "markdown",
   "metadata": {},
   "source": [
    "**LE MICHIGAN**\n",
    "\n",
    "Ici\n",
    "- **p** vaut 0.49\n",
    "- **delta/2** vaut 0.01 pour ne pas se tromper dans le résultat\n",
    "- **confiance** =0.98\n",
    "\n",
    "\n"
   ]
  },
  {
   "cell_type": "code",
   "execution_count": 102,
   "metadata": {},
   "outputs": [],
   "source": [
    "# Effectuez la simulation pour calculer n_echant \"optimal\"\n",
    "# Effectuez la simulation pour calculer n_echant \"optimal\"\n",
    "def optimal_echant(p, delta_final, confiance):\n",
    "    n_echant = 100  # Commencer avec une petite taille d'échantillon\n",
    "    found = False\n",
    "\n",
    "    while not found:\n",
    "        # Effectuer plusieurs sondages avec la taille d'échantillon actuelle\n",
    "        p_donnees = multi_sondage(1000000, n_echant, p)\n",
    "        \n",
    "        # Calculer l'intervalle de confiance\n",
    "        delta = IC(p_donnees, p, confiance)\n",
    "        \n",
    "        # Vérifier si l'intervalle de confiance est assez petit\n",
    "        if delta / 2 <= delta_final:\n",
    "            found = True\n",
    "        else:\n",
    "            n_echant += 100  # Augmenter progressivement la taille de l'échantillon\n",
    "\n",
    "    return n_echant, delta"
   ]
  },
  {
   "cell_type": "code",
   "execution_count": 103,
   "metadata": {},
   "outputs": [
    {
     "name": "stdout",
     "output_type": "stream",
     "text": [
      "Taille d'échantillon optimale : 1100, Intervalle de confiance atteint : 0.019999999999999962\n"
     ]
    }
   ],
   "source": [
    "# Utiliser les paramètres pour la Californie\n",
    "optimal_n_echant, final_delta = optimal_echant(0.49, 0.01, 0.98)\n",
    "print(f\"Taille d'échantillon optimale : {optimal_n_echant}, Intervalle de confiance atteint : {final_delta}\")\n"
   ]
  }
 ],
 "metadata": {
  "kernelspec": {
   "display_name": "Python 3",
   "language": "python",
   "name": "python3"
  },
  "language_info": {
   "codemirror_mode": {
    "name": "ipython",
    "version": 3
   },
   "file_extension": ".py",
   "mimetype": "text/x-python",
   "name": "python",
   "nbconvert_exporter": "python",
   "pygments_lexer": "ipython3",
   "version": "3.11.9"
  }
 },
 "nbformat": 4,
 "nbformat_minor": 2
}
