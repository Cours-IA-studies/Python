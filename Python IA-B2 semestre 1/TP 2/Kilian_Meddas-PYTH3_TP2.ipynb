{
 "cells": [
  {
   "cell_type": "markdown",
   "metadata": {},
   "source": [
    "# TP II : Codage/Décodage\n",
    "\n",
    "Ce TP vise crypter/décrypter un texte. **C'est un *TP à trous* ; il s'agira de compléter ces trous et d'y ajouter les tests qui vous sembleront utiles.**\n",
    "Nous avons vu l'année dernière des méthodes de chiffrement basés sur des clés qui sont soit des chiffres (chiffrement par décalage) ou des mots (Chiffre de Vigenère).\n",
    "Ici nous ne supposerons plus qu'il y a une telle méthode. Nous supposerons juste qu'il existe une bijection de l'alphabet en clair vers l'alphabet chiffré que nous devons trouver."
   ]
  },
  {
   "cell_type": "markdown",
   "metadata": {},
   "source": [
    "# Au travail!"
   ]
  },
  {
   "cell_type": "code",
   "execution_count": 751,
   "metadata": {},
   "outputs": [],
   "source": [
    "from math import *\n"
   ]
  },
  {
   "cell_type": "markdown",
   "metadata": {},
   "source": [
    "## 0- Quelques rappels sur les dictionnaires"
   ]
  },
  {
   "cell_type": "markdown",
   "metadata": {},
   "source": [
    "Un dictionnaire est d'un type appelé **dict** en Python. Il est entre accolades {} et contient des associations clés:valeurs. L'ordre n'a pas d'importance. Chaque clé n'a qu'une seule valeur associée. Dans l'exemple ci-dessous les valeurs sont des chaînes de caractère mais cela pourrait bien sûr être aussi des valeurs numériques."
   ]
  },
  {
   "cell_type": "code",
   "execution_count": 752,
   "metadata": {},
   "outputs": [
    {
     "data": {
      "text/plain": [
       "{'Pierre': '074567', 'Lena': '096745'}"
      ]
     },
     "execution_count": 752,
     "metadata": {},
     "output_type": "execute_result"
    }
   ],
   "source": [
    "tel={\"Pierre\":\"074567\",\"Lena\":\"096745\"} #\n",
    "tel"
   ]
  },
  {
   "cell_type": "code",
   "execution_count": 753,
   "metadata": {},
   "outputs": [
    {
     "data": {
      "text/plain": [
       "{'Pierre': '074567', 'Lena': '096745', 'Jack': '090878'}"
      ]
     },
     "execution_count": 753,
     "metadata": {},
     "output_type": "execute_result"
    }
   ],
   "source": [
    "tel[\"Jack\"]=\"090878\"\n",
    "tel"
   ]
  },
  {
   "cell_type": "code",
   "execution_count": 754,
   "metadata": {},
   "outputs": [
    {
     "data": {
      "text/plain": [
       "'096745'"
      ]
     },
     "execution_count": 754,
     "metadata": {},
     "output_type": "execute_result"
    }
   ],
   "source": [
    "tel[\"Lena\"]"
   ]
  },
  {
   "cell_type": "code",
   "execution_count": 755,
   "metadata": {},
   "outputs": [
    {
     "data": {
      "text/plain": [
       "{'Pierre': '074567', 'Lena': '096745', 'Jack': '090909'}"
      ]
     },
     "execution_count": 755,
     "metadata": {},
     "output_type": "execute_result"
    }
   ],
   "source": [
    "tel[\"Jack\"]=\"090909\"\n",
    "tel"
   ]
  },
  {
   "cell_type": "code",
   "execution_count": 756,
   "metadata": {},
   "outputs": [
    {
     "data": {
      "text/plain": [
       "['Pierre', 'Lena', 'Jack']"
      ]
     },
     "execution_count": 756,
     "metadata": {},
     "output_type": "execute_result"
    }
   ],
   "source": [
    "list(tel)"
   ]
  },
  {
   "cell_type": "code",
   "execution_count": 757,
   "metadata": {},
   "outputs": [
    {
     "data": {
      "text/plain": [
       "True"
      ]
     },
     "execution_count": 757,
     "metadata": {},
     "output_type": "execute_result"
    }
   ],
   "source": [
    "\"Pierre\" in tel"
   ]
  },
  {
   "cell_type": "code",
   "execution_count": 758,
   "metadata": {},
   "outputs": [
    {
     "data": {
      "text/plain": [
       "False"
      ]
     },
     "execution_count": 758,
     "metadata": {},
     "output_type": "execute_result"
    }
   ],
   "source": [
    "\"Pierre\" not in tel"
   ]
  },
  {
   "cell_type": "code",
   "execution_count": 759,
   "metadata": {},
   "outputs": [
    {
     "data": {
      "text/plain": [
       "{'Pierre': '074567', 'Jack': '090909', 'Maria': '567889'}"
      ]
     },
     "execution_count": 759,
     "metadata": {},
     "output_type": "execute_result"
    }
   ],
   "source": [
    "del tel[\"Lena\"]\n",
    "tel[\"Maria\"]=\"567889\"\n",
    "tel"
   ]
  },
  {
   "cell_type": "markdown",
   "metadata": {},
   "source": [
    "## I- Choix du texte et quelques variables utiles"
   ]
  },
  {
   "cell_type": "markdown",
   "metadata": {},
   "source": [
    "Voici le texte que nous souhaiterons décoder:"
   ]
  },
  {
   "cell_type": "code",
   "execution_count": 760,
   "metadata": {},
   "outputs": [],
   "source": [
    "texte_mystere=\"or z f kcgrkcgh fnnggh mg ug rofo onaougugna fqgb cn u eorrofu rgswfny or gafoa y cng fnbognng xfuorrg iwpaghafnag ga mfyoh or fqfoa gag woblg ufoh cng hgwog yg ufrlgcwh r fqfoa wgycoa f rf uohgwg ipcw gqoagw r lcuorofaopn yg hgh yghfhawgh or kcoaaf rf npcqgrrg pwrgfnh rf qorrg yg hgh fogcj ga gafdroa hf ygugcwg yfnh r org yg hcrroqfn iwgh blfwrghapn yfnh rf bfwprong yc hcy bgaag org gha ygh irch honscrogwgh grrg n gha scgwg bpuiphgg kcg yg hfdrg yg ugw ga f gnqowpn awpoh uorrgh yg rpns gn rfwsgcw grrg n f mfufoh irch y cn kcfwa yg uorrg grrg gha hgifwgg yc bpnaongna ifw cng bwokcg f igong qohodrg kco xorawg f awfqgwh cng ufhhg yg wphgfcj ga yg qfhg wgnygt qpch lfdoacgr ygh ipcrgh y gfc rf qgsgafaopn bpuug pn igca rg hciiphgw gha ifcqwg pc ipcw fonho yowg nfong pn n z awpcqg ifh y fwdwgh y cng bgwafong yougnhopn qgwh r gjawguoag pbboygnafrg f r gnywpoa pc h grgqgna rg xpwa upcrawog ga kcgrkcgh uohgwfdrgh dfaohhgh yg dpoh lfdoaggh ignyfna r gag ifw rgh sgnh kco xcogna rgh ipchhogwgh ga rgh xogqwgh yg blfwrghapn pn wgnbpnawg or gha qwfo rg ifruogw nfon hgaosgwg ufoh apcag r org f r gjbgiaopn yg bg ipona pbboygnafr ga y cn ghifbg awohag ga drfnblfawg kco dpwyg rf ugw gha bpcqgwag y gifohhgh dwpchhforrgh yg uzwag pypwoxgwfna ho ghaoug ifw rgh lpwaobcragcwh fnsrfoh r fwdchag z upnag hpcqgna f cng lfcagcw yg kcontg pc qonsa iogyh or z xpwug cn aforroh iwghkcg ouigngawfdrg ga blfwsg r fauphilgwg yg hgh ifwxcuh fc irch iwpxpny yg bg aforroh npn rpon yg r gjawguoag pwognafrg yg r org b gha f yowg yg rf irch grposngg rgswfny h gafoa dfao rco ugug cng igaoag lcaag kc or pbbcifoa kcfny ipcw rf iwguogwg xpoh ga ifw lfhfwy mg xoh hf bpnnfohhfnbg bgaag bpnnfohhfnbg ucwoa dogn qoag gn fuoaog bfw or z fqfoa bgwagh yfnh rg blgw wgbrch yg kcpo gjboagw r onagwga ga r ghaoug mg qoh kc or fqfoa wgbc cng xpwag gycbfaopn lgcwgchgugna hgwqog ifw ygh xfbcragh hiowoacgrrgh igc bpuucngh ufoh kc or gafoa onxgbag yg uohfnalwpiog ga hcmga f yg ufrlgcwgchgh fragwnfaoqgh y gnalpchofhug ga yg ugrfnbprog dogn kc or gca blgt rco dgfcbpci yg roqwgh or h gn hgwqfoa wfwgugna hgh iwonboifcj fuchgugnah bpnhohafogna f blfhhgw ga f igblgw pc f xrfngw hcw rf irfsg ga f awfqgwh rgh uzwagh gn kcgag yg bpkcorrfsgh ga y gblfnaorrpnh gnapuprpsokcgh hf bprrgbaopn fcwfoa ic xfowg gnqog f cn hefuugwyfu yfnh bgh gjbcwhopnh or gafoa pwyonfowgugna fbbpuifsng ifw cn qogcj ngswg npuug mcioagw kco fqfoa gag fxxwfnblo fqfna rgh wgqgwh yg rf xfuorrg ufoh kc pn n fqfoa ic ygboygw no ifw ugnfbgh no ifw iwpughhgh f fdfnypnngw hpn mgcng ufhhf eorr or bpnhoygwfoa bpuug hpn ywpoa yg rg hcoqwg ifwapca or n gha ifh ouiwpdfdrg kcg rgh ifwgnah yg rgswfny mcsgfna kcg bgrco bo fqfoa rf agag cn igc ygwfnsgg hg hpogna fiirokcgh f bpnxowugw mcioagw yfnh hpn pdhaonfaopn yfnh rg dca yg ugaawg cng ghigbg yg sfwyogn ga yg hcwqgorrfna fciwgh yc xcsoaox hpch rf rfaoacyg yg r org yg hcrroqfn rgh loqgwh hpna wfwgugna wospcwgcj ga b gha cn gqgngugna kcfny fc ygbron yg r fnngg rg xgc ygqogna onyohignhfdrg bgignyfna qgwh rg uorogc y pbapdwg or z gca cng mpcwngg y cn xwpoy wgufwkcfdrg mchag fqfna rg bpcblgw yc hprgor mg ug xwfzfoh cn blguon f awfqgwh rgh aforroh qgwh rf lcaag yg upn fuo kcg mg n fqfoh ifh qc ygicoh kcgrkcgh hgufongh mg ygugcwfoh frpwh f blfwrghapn f cng yohafnbg yg ngcx uorrgh yg r org ga rgh xfboroagh ipcw frrgw ga wgqgnow gafogna dogn uponh swfnygh kc fcmpcwy lco gn fwwoqfna f rf lcaag mg xwfiifo hgrpn upn lfdoacyg ga ng wgbgqfna ifh yg wgipnhg mg blgwblfo rf brgx pc mg hfqfoh kc grrg gafoa bfblgg m pcqwoh rf ipwag ga m gnawfo cn dgfc xgc xrfudfoa yfnh rg xpzgw b gafoa cng hcwiwohg ga f bpci hcw cng ygh irch fswgfdrgh mg ug ygdfwwfhhfo yg upn ifrgapa mg awfonfo cn xfcagcor fciwgh ygh dcblgh igaorrfnagh ga m faagnyoh ifaoguugna r fwwoqgg yg ugh lpagh igc fiwgh rf apudgg yg rf ncoa orh fwwoqgwgna ga ug xowgna cn fbbcgor apca f xfoa bpwyofr mcioagw apca gn wofna y cng pwgorrg f r fcawg hg ypnnfoa yc upcqgugna ga iwgifwfoa kcgrkcgh ipcrgh y gfc ipcw rg hpcigw rgswfny gafoa yfnh cng yg hgh bwohgh y gnalpchofhug bfw yg kcgr fcawg npu fiigrgw bgrf or fqfoa awpcqg cn doqfrqg onbpnnc xpwufna cn sgnwg npcqgfc ga uogcj gnbpwg or fqfoa blfhhg ga faawfig fqgb r fhhohafnbg yg mcioagw cn hbfwfdgg kc or bwpzfoa apca f xfoa npcqgfc ga hcw rgkcgr or yghowfoa fqpow upn pionopn rg rgnygufon ufaon\""
   ]
  },
  {
   "cell_type": "markdown",
   "metadata": {},
   "source": [
    "créer une variable avec les lettres de l'alphabet (pemettra si nécessaire d'itérer sur ces lettres)"
   ]
  },
  {
   "cell_type": "code",
   "execution_count": 761,
   "metadata": {},
   "outputs": [],
   "source": [
    "alphabet= \"a b c d e f g h i j k l m n o p q r s t u v w x y z\""
   ]
  },
  {
   "cell_type": "code",
   "execution_count": 762,
   "metadata": {},
   "outputs": [],
   "source": [
    "# Permet de transformer un str en liste selon le paramètre choisi\n",
    "tab_alphabet = alphabet.split(' ')"
   ]
  },
  {
   "cell_type": "code",
   "execution_count": 763,
   "metadata": {},
   "outputs": [
    {
     "data": {
      "text/plain": [
       "['a',\n",
       " 'b',\n",
       " 'c',\n",
       " 'd',\n",
       " 'e',\n",
       " 'f',\n",
       " 'g',\n",
       " 'h',\n",
       " 'i',\n",
       " 'j',\n",
       " 'k',\n",
       " 'l',\n",
       " 'm',\n",
       " 'n',\n",
       " 'o',\n",
       " 'p',\n",
       " 'q',\n",
       " 'r',\n",
       " 's',\n",
       " 't',\n",
       " 'u',\n",
       " 'v',\n",
       " 'w',\n",
       " 'x',\n",
       " 'y',\n",
       " 'z']"
      ]
     },
     "execution_count": 763,
     "metadata": {},
     "output_type": "execute_result"
    }
   ],
   "source": [
    "tab_alphabet"
   ]
  },
  {
   "cell_type": "markdown",
   "metadata": {},
   "source": [
    "voici une variable contenant les lettres de l'alphabet listées dans leur fréquence d'utilisation en français"
   ]
  },
  {
   "cell_type": "code",
   "execution_count": 764,
   "metadata": {},
   "outputs": [],
   "source": [
    "frequence=\"e a i t s n l u r o d m c p v q h f b g j y x w z k\""
   ]
  },
  {
   "cell_type": "markdown",
   "metadata": {},
   "source": [
    "Créer un tableau qui remplace notre chaine de caractères fréquence par un tableau qui contient les mêmes valeurs."
   ]
  },
  {
   "cell_type": "code",
   "execution_count": 765,
   "metadata": {},
   "outputs": [],
   "source": [
    "tab_freq = frequence.split(' ')"
   ]
  },
  {
   "cell_type": "markdown",
   "metadata": {},
   "source": [
    "## II- Quelques fonctions"
   ]
  },
  {
   "cell_type": "markdown",
   "metadata": {},
   "source": [
    "On va d'abord réaliser et tester quelques fonctions pour gérer les dictionnaires, chiffrer et déchiffrer des textes.\n",
    "\n"
   ]
  },
  {
   "cell_type": "code",
   "execution_count": 766,
   "metadata": {},
   "outputs": [],
   "source": [
    "def chiffrement_lettre(l,d):\n",
    "    '''input: d: dictionnaire qui contient des couples (lettres_clair:lettres_codees) \n",
    "           l: string de taille 1 qui contient la lettre que nous voulons coder\n",
    "    output: lettre: string de taille 1 qui contient soit la lettre l codée selon le dictionnaire d \n",
    "                    si la lettre existe dans le dictionnaire, soit la lettre l initiale si la lettre\n",
    "                    n'existe pas dans le dictionnaire''' \n",
    "    \n",
    "    # définit lettre aveec la valeur de base, pour le cas ou la lettre n'a pas de codage\n",
    "    lettre = l\n",
    "\n",
    "    # Si l est dans le dictionnaire, renvoie la lettre codée\n",
    "    if l in d.keys(): \n",
    "        lettre = d[l]\n",
    "    \n",
    "    return lettre"
   ]
  },
  {
   "cell_type": "code",
   "execution_count": 767,
   "metadata": {},
   "outputs": [],
   "source": [
    "def chiffrement_phrase(p,d):\n",
    "    '''input: d: dictionnaire qui contient des couples (lettres_clair:lettres_codees) \n",
    "           p: string contenant la chaîne de caractères de la phrase que nous voulons coder\n",
    "    output: phrase: string contenant une nouvelle chaîne de caractère correspondant au chiffrement caractère par\n",
    "                    caractère de la phrase p à l'aide du dictionnaire d'''\n",
    "    phrase = ''\n",
    "\n",
    "    # Appel la fonction chiffrement lettre pour itérer la phrase\n",
    "    for lettre in p:\n",
    "        phrase += chiffrement_lettre(lettre,d)\n",
    "        \n",
    "    return phrase"
   ]
  },
  {
   "cell_type": "markdown",
   "metadata": {},
   "source": [
    "Créer un dictionnaire (qui ne contient pas nécessairement toutes les lettres de l'alphabet) et tester les deux fonctions ci-dessus en codant une phrase de votre choix."
   ]
  },
  {
   "cell_type": "code",
   "execution_count": 768,
   "metadata": {},
   "outputs": [],
   "source": [
    "dico = {\n",
    "    'a': 'c', 'b': 'x', 'c': 'y', 'd': 'z', 'e': 'v',\n",
    "    'f': 'b', 'g': 'n', 'h': 'm', 'i': 'l', 'j': 'k',\n",
    "    'k': 'o', 'l': 'p', 'm': 'q', 'n': 'r', 'o': 's',\n",
    "    'p': 'd', 'q': 'u', 'r': 'w', 's': 'a', 't': 'j',\n",
    "    'u': 'e', 'v': 'f', 'w': 'g', 'x': 'h', 'y': 'i',\n",
    "}\n"
   ]
  },
  {
   "cell_type": "code",
   "execution_count": 769,
   "metadata": {},
   "outputs": [
    {
     "name": "stdout",
     "output_type": "stream",
     "text": [
      "c\n",
      "z\n"
     ]
    }
   ],
   "source": [
    "# a et présent, z non\n",
    "print(chiffrement_lettre('a', dico))\n",
    "print(chiffrement_lettre('z', dico))"
   ]
  },
  {
   "cell_type": "code",
   "execution_count": 770,
   "metadata": {},
   "outputs": [
    {
     "name": "stdout",
     "output_type": "stream",
     "text": [
      "qipvrv bcwqvw c aslhcrjv jwsla cra\n",
      "x y z\n"
     ]
    }
   ],
   "source": [
    "anais = 'mylene farmer a soixante trois ans' \n",
    "print(chiffrement_phrase(anais, dico))\n",
    "print(chiffrement_phrase('b c d', dico))"
   ]
  },
  {
   "cell_type": "code",
   "execution_count": 771,
   "metadata": {},
   "outputs": [],
   "source": [
    "def inverse_dico(d):\n",
    "    '''input: d: dictionnaire qui contient des couples (lettres_clair:lettres_codees) \n",
    "    output: dico: nouveau dictionnaire qui inverse les clefs et les valeurs du dictionnaire d.'''\n",
    "    \n",
    "    dico = {}\n",
    "\n",
    "    # Afin d'inverser les clées et valeurs\n",
    "    key = list(d.keys())\n",
    "    value = list(d.values())\n",
    "    for i in range(len(key)):\n",
    "        dico[value[i]] = key[i]\n",
    "    return dico"
   ]
  },
  {
   "cell_type": "markdown",
   "metadata": {},
   "source": [
    "Vous avez bien sûr identifié que cette fonction permet de décoder un texte (en connaissant le dictionnaire qui a servi à chiffrer). Vous pouvez maintenant tester cette fonction sur la phrase que vous avez codé plus haut."
   ]
  },
  {
   "cell_type": "code",
   "execution_count": 772,
   "metadata": {},
   "outputs": [
    {
     "name": "stdout",
     "output_type": "stream",
     "text": [
      "mylene farmer a soixante trois ans\n",
      "qipvrv bcwqvw c aslhcrjv jwsla cra\n",
      "mylene farmer a soixante trois ans\n"
     ]
    }
   ],
   "source": [
    "print(anais)\n",
    "anais = chiffrement_phrase(anais, dico)\n",
    "print(anais)\n",
    "anais = chiffrement_phrase(anais, inverse_dico(dico))\n",
    "print(anais)"
   ]
  },
  {
   "cell_type": "markdown",
   "metadata": {},
   "source": [
    "## III- Décryptage d'un texte sans connaître le dictionnaire de cryptage"
   ]
  },
  {
   "cell_type": "markdown",
   "metadata": {},
   "source": [
    "Commencer par analyser le texte à décrypter avec la fonction suivante:"
   ]
  },
  {
   "cell_type": "code",
   "execution_count": 773,
   "metadata": {},
   "outputs": [],
   "source": [
    "def compte_lettres (p):\n",
    "    '''input: \\n\n",
    "    p: string qui contient la phrase que nous souhaitons analyser\\n\n",
    "    output: dico_nombre: dictionnaire faisant correspondre chaque lettre apparaissant dans la phrase p à son nombre\n",
    "        d'occurrences dans cette même phrase.'''\n",
    "    dico_nombre = {}\n",
    "    for lettre in p:\n",
    "        if lettre != ' ':\n",
    "            dico_nombre[lettre] = p.count(lettre)\n",
    "\n",
    "    return dico_nombre"
   ]
  },
  {
   "cell_type": "markdown",
   "metadata": {},
   "source": [
    "Tester cette fonction sur une phrase simple, puis sur notre texte_mystere"
   ]
  },
  {
   "cell_type": "code",
   "execution_count": 774,
   "metadata": {},
   "outputs": [
    {
     "name": "stdout",
     "output_type": "stream",
     "text": [
      "mylene farmer a soixante trois ans\n",
      "{'m': 2, 'y': 1, 'l': 1, 'e': 4, 'n': 3, 'f': 1, 'a': 4, 'r': 3, 's': 3, 'o': 2, 'i': 2, 'x': 1, 't': 2}\n"
     ]
    }
   ],
   "source": [
    "print(anais)\n",
    "print(compte_lettres(anais))\n",
    "dico = compte_lettres(anais)"
   ]
  },
  {
   "cell_type": "markdown",
   "metadata": {},
   "source": [
    "Nous allons maintenant trier les clés de notre dictionnaire par valeurs décroissantes. Ici nous supposerons que notre dictionnaire est du type {clé:valeur} avec valeur qui est un integer ou un float (un type qui permet le tri)"
   ]
  },
  {
   "cell_type": "code",
   "execution_count": 775,
   "metadata": {},
   "outputs": [],
   "source": [
    "def tr_dico(d):\n",
    "   ''' input: d: dictionnaire du type {clé:valeur} avec valeur qui est une donnée numérique\n",
    "    output: liste_decroi : liste contenant les clés du dictionnaire dans l'ordre des valeurs décroissantes'''\n",
    "\n",
    "   # sorted peut prendre les dictionnaires : sorted(dictionnaire, key = selon quoi on veut, reverse= True permet de trier en descending)\n",
    "   # get permet de sorted le dictionnaire selon les valeurs\n",
    "   liste_decroi = sorted(d, key = d.get, reverse= True)\n",
    "   return liste_decroi"
   ]
  },
  {
   "cell_type": "markdown",
   "metadata": {},
   "source": [
    "Tester cette fonction sur le dictionnaire que nous venons de créer avec compte_lettres"
   ]
  },
  {
   "cell_type": "code",
   "execution_count": 776,
   "metadata": {},
   "outputs": [
    {
     "name": "stdout",
     "output_type": "stream",
     "text": [
      "['e', 'a', 'n', 'r', 's', 'm', 'o', 'i', 't', 'y', 'l', 'f', 'x']\n"
     ]
    }
   ],
   "source": [
    "print(tr_dico(dico))"
   ]
  },
  {
   "cell_type": "markdown",
   "metadata": {},
   "source": [
    "Nous allons maintenant créer un dictionnaire qui prend des clés prises dans un premier tableau et lui associe les valeurs prises dans un deuxième tableau en conservant l'ordre"
   ]
  },
  {
   "cell_type": "code",
   "execution_count": 777,
   "metadata": {},
   "outputs": [],
   "source": [
    "def arrays2dict (ks,vs):\n",
    "        ''' input: ks: tableau (1D) contenant les clés\n",
    "                vs: tableau (1D) contenant les valeurs\n",
    "        output: combine : dictionnaire dont les clefs correspondent au tableau ks et qui associe pour chacune de ces\n",
    "                        clefs la valeur se trouvant à la même position dans le tableau vs    '''\n",
    "        # zip permet de lier les éléments d'un même index\n",
    "        combine = dict(zip(ks, vs))\n",
    "        return combine"
   ]
  },
  {
   "cell_type": "markdown",
   "metadata": {},
   "source": [
    "Utiliser cette fonction pour combiner le tableau fourni par tri_dico et le tableau des lettres de l'alphabet classées par fréquences décroissantes dans la langue française."
   ]
  },
  {
   "cell_type": "code",
   "execution_count": 778,
   "metadata": {},
   "outputs": [
    {
     "data": {
      "text/plain": [
       "{'e': 'e',\n",
       " 'a': 'a',\n",
       " 'i': 'n',\n",
       " 't': 'r',\n",
       " 's': 's',\n",
       " 'n': 'm',\n",
       " 'l': 'o',\n",
       " 'u': 'i',\n",
       " 'r': 't',\n",
       " 'o': 'y',\n",
       " 'd': 'l',\n",
       " 'm': 'f',\n",
       " 'c': 'x'}"
      ]
     },
     "execution_count": 778,
     "metadata": {},
     "output_type": "execute_result"
    }
   ],
   "source": [
    "arrays2dict(tab_freq , tr_dico(dico))"
   ]
  },
  {
   "cell_type": "markdown",
   "metadata": {},
   "source": [
    "On va maintenant créer une fonction qui va utiliser tout ce qu'on vient de créer et qui doit décrypter la phrase pc à l'aide des lettres de l'alphabet rangées par ordre de fréquence décroissante (va dépendre de la langue utilisée)et disponible dans le tableau ll. "
   ]
  },
  {
   "cell_type": "code",
   "execution_count": 779,
   "metadata": {},
   "outputs": [],
   "source": [
    "def decrypte (pc,ll):\n",
    "    # input: pc : chaine de caractères contenant la phrase cryptée qu'on souhaite décoder\n",
    "    #        ll: tableau (1D) contenant les lettres de l'alphabet rangées par ordre de fréquence décroissante\n",
    "    # output: phraseclaire : chaîne de caractères contenant la phrase décryptée    \n",
    "    phrasecclaire = ''\n",
    "    compte = compte_lettres(pc)\n",
    "    lettre_tri = tr_dico(compte)\n",
    "    dico = arrays2dict(lettre_tri, ll)\n",
    "    phrasecclaire = chiffrement_phrase(pc, dico)\n",
    "\n",
    "\n",
    "    return phrasecclaire"
   ]
  },
  {
   "cell_type": "markdown",
   "metadata": {},
   "source": [
    "Utiliser cette fonction pour décrypter notre texte_mystere"
   ]
  },
  {
   "cell_type": "code",
   "execution_count": 780,
   "metadata": {},
   "outputs": [
    {
     "data": {
      "text/plain": [
       "'or z f kcgrkcgh fnnggh mg ug rofo onaougugna fqgb cn u eorrofu rgswfny or gafoa y cng fnbognng xfuorrg iwpaghafnag ga mfyoh or fqfoa gag woblg ufoh cng hgwog yg ufrlgcwh r fqfoa wgycoa f rf uohgwg ipcw gqoagw r lcuorofaopn yg hgh yghfhawgh or kcoaaf rf npcqgrrg pwrgfnh rf qorrg yg hgh fogcj ga gafdroa hf ygugcwg yfnh r org yg hcrroqfn iwgh blfwrghapn yfnh rf bfwprong yc hcy bgaag org gha ygh irch honscrogwgh grrg n gha scgwg bpuiphgg kcg yg hfdrg yg ugw ga f gnqowpn awpoh uorrgh yg rpns gn rfwsgcw grrg n f mfufoh irch y cn kcfwa yg uorrg grrg gha hgifwgg yc bpnaongna ifw cng bwokcg f igong qohodrg kco xorawg f awfqgwh cng ufhhg yg wphgfcj ga yg qfhg wgnygt qpch lfdoacgr ygh ipcrgh y gfc rf qgsgafaopn bpuug pn igca rg hciiphgw gha ifcqwg pc ipcw fonho yowg nfong pn n z awpcqg ifh y fwdwgh y cng bgwafong yougnhopn qgwh r gjawguoag pbboygnafrg f r gnywpoa pc h grgqgna rg xpwa upcrawog ga kcgrkcgh uohgwfdrgh dfaohhgh yg dpoh lfdoaggh ignyfna r gag ifw rgh sgnh kco xcogna rgh ipchhogwgh ga rgh xogqwgh yg blfwrghapn pn wgnbpnawg or gha qwfo rg ifruogw nfon hgaosgwg ufoh apcag r org f r gjbgiaopn yg bg ipona pbboygnafr ga y cn ghifbg awohag ga drfnblfawg kco dpwyg rf ugw gha bpcqgwag y gifohhgh dwpchhforrgh yg uzwag pypwoxgwfna ho ghaoug ifw rgh lpwaobcragcwh fnsrfoh r fwdchag z upnag hpcqgna f cng lfcagcw yg kcontg pc qonsa iogyh or z xpwug cn aforroh iwghkcg ouigngawfdrg ga blfwsg r fauphilgwg yg hgh ifwxcuh fc irch iwpxpny yg bg aforroh npn rpon yg r gjawguoag pwognafrg yg r org b gha f yowg yg rf irch grposngg rgswfny h gafoa dfao rco ugug cng igaoag lcaag kc or pbbcifoa kcfny ipcw rf iwguogwg xpoh ga ifw lfhfwy mg xoh hf bpnnfohhfnbg bgaag bpnnfohhfnbg ucwoa dogn qoag gn fuoaog bfw or z fqfoa bgwagh yfnh rg blgw wgbrch yg kcpo gjboagw r onagwga ga r ghaoug mg qoh kc or fqfoa wgbc cng xpwag gycbfaopn lgcwgchgugna hgwqog ifw ygh xfbcragh hiowoacgrrgh igc bpuucngh ufoh kc or gafoa onxgbag yg uohfnalwpiog ga hcmga f yg ufrlgcwgchgh fragwnfaoqgh y gnalpchofhug ga yg ugrfnbprog dogn kc or gca blgt rco dgfcbpci yg roqwgh or h gn hgwqfoa wfwgugna hgh iwonboifcj fuchgugnah bpnhohafogna f blfhhgw ga f igblgw pc f xrfngw hcw rf irfsg ga f awfqgwh rgh uzwagh gn kcgag yg bpkcorrfsgh ga y gblfnaorrpnh gnapuprpsokcgh hf bprrgbaopn fcwfoa ic xfowg gnqog f cn hefuugwyfu yfnh bgh gjbcwhopnh or gafoa pwyonfowgugna fbbpuifsng ifw cn qogcj ngswg npuug mcioagw kco fqfoa gag fxxwfnblo fqfna rgh wgqgwh yg rf xfuorrg ufoh kc pn n fqfoa ic ygboygw no ifw ugnfbgh no ifw iwpughhgh f fdfnypnngw hpn mgcng ufhhf eorr or bpnhoygwfoa bpuug hpn ywpoa yg rg hcoqwg ifwapca or n gha ifh ouiwpdfdrg kcg rgh ifwgnah yg rgswfny mcsgfna kcg bgrco bo fqfoa rf agag cn igc ygwfnsgg hg hpogna fiirokcgh f bpnxowugw mcioagw yfnh hpn pdhaonfaopn yfnh rg dca yg ugaawg cng ghigbg yg sfwyogn ga yg hcwqgorrfna fciwgh yc xcsoaox hpch rf rfaoacyg yg r org yg hcrroqfn rgh loqgwh hpna wfwgugna wospcwgcj ga b gha cn gqgngugna kcfny fc ygbron yg r fnngg rg xgc ygqogna onyohignhfdrg bgignyfna qgwh rg uorogc y pbapdwg or z gca cng mpcwngg y cn xwpoy wgufwkcfdrg mchag fqfna rg bpcblgw yc hprgor mg ug xwfzfoh cn blguon f awfqgwh rgh aforroh qgwh rf lcaag yg upn fuo kcg mg n fqfoh ifh qc ygicoh kcgrkcgh hgufongh mg ygugcwfoh frpwh f blfwrghapn f cng yohafnbg yg ngcx uorrgh yg r org ga rgh xfboroagh ipcw frrgw ga wgqgnow gafogna dogn uponh swfnygh kc fcmpcwy lco gn fwwoqfna f rf lcaag mg xwfiifo hgrpn upn lfdoacyg ga ng wgbgqfna ifh yg wgipnhg mg blgwblfo rf brgx pc mg hfqfoh kc grrg gafoa bfblgg m pcqwoh rf ipwag ga m gnawfo cn dgfc xgc xrfudfoa yfnh rg xpzgw b gafoa cng hcwiwohg ga f bpci hcw cng ygh irch fswgfdrgh mg ug ygdfwwfhhfo yg upn ifrgapa mg awfonfo cn xfcagcor fciwgh ygh dcblgh igaorrfnagh ga m faagnyoh ifaoguugna r fwwoqgg yg ugh lpagh igc fiwgh rf apudgg yg rf ncoa orh fwwoqgwgna ga ug xowgna cn fbbcgor apca f xfoa bpwyofr mcioagw apca gn wofna y cng pwgorrg f r fcawg hg ypnnfoa yc upcqgugna ga iwgifwfoa kcgrkcgh ipcrgh y gfc ipcw rg hpcigw rgswfny gafoa yfnh cng yg hgh bwohgh y gnalpchofhug bfw yg kcgr fcawg npu fiigrgw bgrf or fqfoa awpcqg cn doqfrqg onbpnnc xpwufna cn sgnwg npcqgfc ga uogcj gnbpwg or fqfoa blfhhg ga faawfig fqgb r fhhohafnbg yg mcioagw cn hbfwfdgg kc or bwpzfoa apca f xfoa npcqgfc ga hcw rgkcgr or yghowfoa fqpow upn pionopn rg rgnygufon ufaon'"
      ]
     },
     "execution_count": 780,
     "metadata": {},
     "output_type": "execute_result"
    }
   ],
   "source": [
    "texte_mystere"
   ]
  },
  {
   "cell_type": "code",
   "execution_count": 781,
   "metadata": {},
   "outputs": [
    {
     "data": {
      "text/plain": [
       "'il y a quelques annees je me liai intimement avec un m william legrand il etait d une ancienne famille protestante et jadis il avait ete riche mais une serie de malheurs l avait reduit a la misere pour eviter l humiliation de ses desastres il quitta la nouvelle orleans la ville de ses aieux et etablit sa demeure dans l ile de sullivan pres charleston dans la caroline du sud cette ile est des plus singulieres elle n est guere composee que de sable de mer et a environ trois milles de long en largeur elle n a jamais plus d un quart de mille elle est separee du continent par une crique a peine visible qui filtre a travers une masse de roseaux et de vase rendez vous habituel des poules d eau la vegetation comme on peut le supposer est pauvre ou pour ainsi dire naine on n y trouve pas d arbres d une certaine dimension vers l extremite occidentale a l endroit ou s elevent le fort moultrie et quelques miserables batisses de bois habitees pendant l ete par les gens qui fuient les poussieres et les fievres de charleston on rencontre il est vrai le palmier nain setigere mais toute l ile a l exception de ce point occidental et d un espace triste et blanchatre qui borde la mer est couverte d epaisses broussailles de myrte odoriferant si estime par les horticulteurs anglais l arbuste y monte souvent a une hauteur de quinze ou vingt pieds il y forme un taillis presque impenetrable et charge l atmosphere de ses parfums au plus profond de ce taillis non loin de l extremite orientale de l ile c est a dire de la plus eloignee legrand s etait bati lui meme une petite hutte qu il occupait quand pour la premiere fois et par hasard je fis sa connaissance cette connaissance murit bien vite en amitie car il y avait certes dans le cher reclus de quoi exciter l interet et l estime je vis qu il avait recu une forte education heureusement servie par des facultes spirituelles peu communes mais qu il etait infecte de misanthropie et sujet a de malheureuses alternatives d enthousiasme et de melancolie bien qu il eut chez lui beaucoup de livres il s en servait rarement ses principaux amusements consistaient a chasser et a pecher ou a flaner sur la plage et a travers les myrtes en quete de coquillages et d echantillons entomologiques sa collection aurait pu faire envie a un swammerdam dans ces excursions il etait ordinairement accompagne par un vieux negre nomme jupiter qui avait ete affranchi avant les revers de la famille mais qu on n avait pu decider ni par menaces ni par promesses a abandonner son jeune massa will il considerait comme son droit de le suivre partout il n est pas improbable que les parents de legrand jugeant que celui ci avait la tete un peu derangee se soient appliques a confirmer jupiter dans son obstination dans le but de mettre une espece de gardien et de surveillant aupres du fugitif sous la latitude de l ile de sullivan les hivers sont rarement rigoureux et c est un evenement quand au declin de l annee le feu devient indispensable cependant vers le milieu d octobre il y eut une journee d un froid remarquable juste avant le coucher du soleil je me frayais un chemin a travers les taillis vers la hutte de mon ami que je n avais pas vu depuis quelques semaines je demeurais alors a charleston a une distance de neuf milles de l ile et les facilites pour aller et revenir etaient bien moins grandes qu aujourd hui en arrivant a la hutte je frappai selon mon habitude et ne recevant pas de reponse je cherchai la clef ou je savais qu elle etait cachee j ouvris la porte et j entrai un beau feu flambait dans le foyer c etait une surprise et a coup sur une des plus agreables je me debarrassai de mon paletot je trainai un fauteuil aupres des buches petillantes et j attendis patiemment l arrivee de mes hotes peu apres la tombee de la nuit ils arriverent et me firent un accueil tout a fait cordial jupiter tout en riant d une oreille a l autre se donnait du mouvement et preparait quelques poules d eau pour le souper legrand etait dans une de ses crises d enthousiasme car de quel autre nom appeler cela il avait trouve un bivalve inconnu formant un genre nouveau et mieux encore il avait chasse et attrape avec l assistance de jupiter un scarabee qu il croyait tout a fait nouveau et sur lequel il desirait avoir mon opinion le lendemain matin'"
      ]
     },
     "execution_count": 781,
     "metadata": {},
     "output_type": "execute_result"
    }
   ],
   "source": [
    "decrypte(texte_mystere, tab_freq)"
   ]
  }
 ],
 "metadata": {
  "kernelspec": {
   "display_name": "Python 3",
   "language": "python",
   "name": "python3"
  },
  "language_info": {
   "codemirror_mode": {
    "name": "ipython",
    "version": 3
   },
   "file_extension": ".py",
   "mimetype": "text/x-python",
   "name": "python",
   "nbconvert_exporter": "python",
   "pygments_lexer": "ipython3",
   "version": "3.11.9"
  }
 },
 "nbformat": 4,
 "nbformat_minor": 2
}
